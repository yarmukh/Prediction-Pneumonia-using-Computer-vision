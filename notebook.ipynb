{
  "nbformat": 4,
  "nbformat_minor": 0,
  "metadata": {
    "colab": {
      "provenance": [],
      "authorship_tag": "ABX9TyPjEOePSUROCFM88WziV7kV"
    },
    "kernelspec": {
      "name": "python3",
      "display_name": "Python 3"
    },
    "language_info": {
      "name": "python"
    }
  },
  "cells": [
    {
      "cell_type": "markdown",
      "source": [
        "# **Libraries import**"
      ],
      "metadata": {
        "id": "N9kb1QC7WiHr"
      }
    },
    {
      "cell_type": "code",
      "source": [
        "import pandas as pd\n",
        "import numpy as np\n",
        "import seaborn as sns\n",
        "import matplotlib.pyplot as plt\n",
        "import os\n",
        "import cv2 as cv\n",
        "import warnings\n",
        "warnings.filterwarnings(\"ignore\")"
      ],
      "metadata": {
        "id": "XACbhgtQmSlP"
      },
      "execution_count": 31,
      "outputs": []
    },
    {
      "cell_type": "code",
      "execution_count": 22,
      "metadata": {
        "id": "0KBr041_kAhB"
      },
      "outputs": [],
      "source": [
        "import kagglehub\n",
        "path = kagglehub.dataset_download(\"paultimothymooney/chest-xray-pneumonia\")"
      ]
    },
    {
      "cell_type": "markdown",
      "source": [
        "# **Data installation**"
      ],
      "metadata": {
        "id": "y_EJnkD2XBJe"
      }
    },
    {
      "cell_type": "code",
      "source": [
        "base_path = path\n",
        "test_url = os.path.join(base_path, \"chest_xray\", \"test\")\n",
        "train_url = os.path.join(base_path, \"chest_xray\", \"train\")\n",
        "val_url = os.path.join(base_path, \"chest_xray\", \"val\")"
      ],
      "metadata": {
        "id": "e5b6-jwhw7pK"
      },
      "execution_count": 23,
      "outputs": []
    },
    {
      "cell_type": "code",
      "source": [
        "print(\"test_url - \", test_url, \"\\n\", \"train_url - \", train_url, \"\\n\", \"val_url - \", val_url)"
      ],
      "metadata": {
        "colab": {
          "base_uri": "https://localhost:8080/"
        },
        "id": "9C7ZJaH1WbTq",
        "outputId": "59e6dd4c-41bd-4bca-87c7-3e15b0860e2c"
      },
      "execution_count": 24,
      "outputs": [
        {
          "output_type": "stream",
          "name": "stdout",
          "text": [
            "test_url -  /kaggle/input/chest-xray-pneumonia/chest_xray/test \n",
            " train_url -  /kaggle/input/chest-xray-pneumonia/chest_xray/train \n",
            " val_url -  /kaggle/input/chest-xray-pneumonia/chest_xray/val\n"
          ]
        }
      ]
    },
    {
      "cell_type": "markdown",
      "source": [
        "Function split the dataset into two parts: \"X\" and \"y\".  "
      ],
      "metadata": {
        "id": "qXneOSefZQ10"
      }
    },
    {
      "cell_type": "code",
      "source": [
        "labels = [\"PNEUMONIA\", \"NORMAL\"]\n",
        "image_size = 150\n",
        "def get_data(data_url):\n",
        "    X = []\n",
        "    y = []\n",
        "    for label in labels:\n",
        "        path = os.path.join(data_url, label)\n",
        "\n",
        "        if not os.path.exists(path):\n",
        "            print(f\"Warning: Path {path} does not exist!\")\n",
        "            continue\n",
        "\n",
        "        class_num = labels.index(label)\n",
        "        for image in os.listdir(path):\n",
        "            try:\n",
        "                image_arr = cv.imread(os.path.join(path, image), cv.IMREAD_GRAYSCALE)\n",
        "                resized_arr = cv.resize(image_arr, (image_size, image_size)) # Reshaping images to preferred size(зачем?)\n",
        "                #как посмотреть сколько минимальное изображение ?\n",
        "                X.append(resized_arr)\n",
        "                y.append(class_num)\n",
        "            except Exception as e:#(что делаем тут ?)\n",
        "                print(e)\n",
        "    return np.array(X), np.array(y)"
      ],
      "metadata": {
        "id": "5vcNY2CSlqpe"
      },
      "execution_count": 25,
      "outputs": []
    },
    {
      "cell_type": "markdown",
      "source": [
        "что такое относительный путьно и абсолютный путь к файлу ?"
      ],
      "metadata": {
        "id": "xJxkqMcVweeU"
      }
    },
    {
      "cell_type": "markdown",
      "source": [
        "Take the training dataset.  "
      ],
      "metadata": {
        "id": "tiWOKoTBcOZy"
      }
    },
    {
      "cell_type": "code",
      "source": [
        "X_train, y_train = get_data(train_url)"
      ],
      "metadata": {
        "id": "e3LVFhSNt-PD"
      },
      "execution_count": 26,
      "outputs": []
    },
    {
      "cell_type": "markdown",
      "source": [
        "Display a histogram with the number of people with pneumonia."
      ],
      "metadata": {
        "id": "oHFwVzKiP1bG"
      }
    },
    {
      "cell_type": "code",
      "source": [
        "y_plot = pd.array(y_train).map({0: 'No Disease', 1: 'Disease'})\n",
        "plt.figure(figsize=(6,4))\n",
        "sns.set_style('darkgrid')\n",
        "sns.histplot(data = y_plot,binwidth=0.5, shrink=0.7)\n",
        "plt.show()"
      ],
      "metadata": {
        "colab": {
          "base_uri": "https://localhost:8080/",
          "height": 369
        },
        "id": "IFgqH_AYZNER",
        "outputId": "8f495633-581b-4797-d15f-1679a1ffe357"
      },
      "execution_count": 51,
      "outputs": [
        {
          "output_type": "display_data",
          "data": {
            "text/plain": [
              "<Figure size 600x400 with 1 Axes>"
            ],
            "image/png": "[encoded data removed]"
          },
          "metadata": {}
        }
      ]
    },
    {
      "cell_type": "code",
      "source": [],
      "metadata": {
        "id": "cfqLsWn0cxYb"
      },
      "execution_count": null,
      "outputs": []
    }
  ]
}